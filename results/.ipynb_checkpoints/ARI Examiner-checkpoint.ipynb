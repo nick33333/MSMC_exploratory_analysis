{
 "cells": [
  {
   "cell_type": "code",
   "execution_count": 1,
   "id": "1c74a648",
   "metadata": {},
   "outputs": [],
   "source": [
    "import matplotlib.pyplot as plt\n",
    "import seaborn as sns\n",
    "import pandas as pd\n",
    "import numpy as np\n",
    "import os\n",
    "import pickle\n",
    "import re"
   ]
  },
  {
   "cell_type": "code",
   "execution_count": 2,
   "id": "a153f603",
   "metadata": {},
   "outputs": [],
   "source": [
    "path = 'consistency-tests/ARI_testing/'\n",
    "dirlist = sorted(os.listdir(path))\n",
    "\n",
    "goodDirs = []\n",
    "pattern = r'(clusts_\\d_)?batches_100_trials_20_iter_cutoff_1_acc_cutoff_\\d+_test_runs_100\\b'\n",
    "for idx, i in enumerate(dirlist):\n",
    "    match = re.match(pattern, dirlist[idx])\n",
    "    if match:\n",
    "#         print(\"Match found!\")\n",
    "        goodDirs.append(i)"
   ]
  },
  {
   "cell_type": "code",
   "execution_count": 3,
   "id": "841fa60d",
   "metadata": {},
   "outputs": [
    {
     "name": "stdout",
     "output_type": "stream",
     "text": [
      "The second-to-last number is: 100\n"
     ]
    }
   ],
   "source": [
    "string = \"batches_100_trials_20_iter_cutoff_1_acc_cutoff_100_test_runs_100\"\n",
    "pattern = r'\\d+'\n",
    "matches = re.findall(pattern, string)\n",
    "\n",
    "if len(matches) >= 2:\n",
    "    number = matches[-2]\n",
    "    print(f\"The second-to-last number is: {number}\")\n",
    "else:\n",
    "    print(\"No match found.\")"
   ]
  },
  {
   "cell_type": "code",
   "execution_count": 4,
   "id": "0a1f4653",
   "metadata": {},
   "outputs": [
    {
     "data": {
      "text/plain": [
       "['.ipynb_checkpoints',\n",
       " 'KShapes-tests',\n",
       " 'consistency-tests',\n",
       " 'mammals',\n",
       " 'figures',\n",
       " 'lists',\n",
       " 'ARI Examiner.ipynb',\n",
       " 'silhouette-tests']"
      ]
     },
     "execution_count": 4,
     "metadata": {},
     "output_type": "execute_result"
    }
   ],
   "source": [
    "os.listdir()"
   ]
  },
  {
   "cell_type": "code",
   "execution_count": 5,
   "id": "a89d68d5",
   "metadata": {},
   "outputs": [],
   "source": [
    "'''\n",
    "Make N rows with M boxplots where N is the Cluster number and M is the\n",
    "different cutoffs used. Maybe use an sns boxplot with df\n",
    "'''\n",
    "dfDict = {6:[], 7:[], 8:[]}\n",
    "handle = 'final_ARIs_Accumulative.csv'\n",
    "for folder in goodDirs:\n",
    "    numberPattern = r'\\d+' # Number matching pattern\n",
    "    matches = re.findall(numberPattern, folder) # find list of matches in folder\n",
    "    if len(matches) >= 6: \n",
    "        clusts = int(matches[0])\n",
    "    else:\n",
    "        clusts = 8\n",
    "    colname = matches[-2] # Variable number of species to cutoff\n",
    "    df = pd.read_csv(path+folder+\"/accumulative/\"+handle, index_col=0)\n",
    "    df.columns = [int(colname)]\n",
    "    dfDict[clusts].append(df)"
   ]
  },
  {
   "cell_type": "code",
   "execution_count": 6,
   "id": "3f329c60",
   "metadata": {},
   "outputs": [],
   "source": [
    "dataDict = {k:[] for k in dfDict.keys()}\n",
    "for k in list(dfDict.keys()):\n",
    "    dfs = sorted(dfDict[k], key = lambda x:x.columns[0])\n",
    "    boxplot_data = pd.concat(dfs, axis=1)\n",
    "    dataDict[k] = boxplot_data"
   ]
  },
  {
   "cell_type": "code",
   "execution_count": 7,
   "id": "1ff274d0",
   "metadata": {},
   "outputs": [
    {
     "data": {
      "text/html": [
       "<div>\n",
       "<style scoped>\n",
       "    .dataframe tbody tr th:only-of-type {\n",
       "        vertical-align: middle;\n",
       "    }\n",
       "\n",
       "    .dataframe tbody tr th {\n",
       "        vertical-align: top;\n",
       "    }\n",
       "\n",
       "    .dataframe thead th {\n",
       "        text-align: right;\n",
       "    }\n",
       "</style>\n",
       "<table border=\"1\" class=\"dataframe\">\n",
       "  <thead>\n",
       "    <tr style=\"text-align: right;\">\n",
       "      <th></th>\n",
       "      <th>10</th>\n",
       "      <th>20</th>\n",
       "      <th>40</th>\n",
       "      <th>60</th>\n",
       "      <th>80</th>\n",
       "      <th>100</th>\n",
       "    </tr>\n",
       "  </thead>\n",
       "  <tbody>\n",
       "    <tr>\n",
       "      <th>0</th>\n",
       "      <td>0.443663</td>\n",
       "      <td>0.540490</td>\n",
       "      <td>0.822930</td>\n",
       "      <td>0.707367</td>\n",
       "      <td>0.665361</td>\n",
       "      <td>0.486317</td>\n",
       "    </tr>\n",
       "    <tr>\n",
       "      <th>1</th>\n",
       "      <td>0.615506</td>\n",
       "      <td>0.739069</td>\n",
       "      <td>0.793604</td>\n",
       "      <td>0.582179</td>\n",
       "      <td>0.715582</td>\n",
       "      <td>0.529447</td>\n",
       "    </tr>\n",
       "    <tr>\n",
       "      <th>2</th>\n",
       "      <td>0.563797</td>\n",
       "      <td>0.533455</td>\n",
       "      <td>0.771284</td>\n",
       "      <td>0.766802</td>\n",
       "      <td>0.681582</td>\n",
       "      <td>0.450917</td>\n",
       "    </tr>\n",
       "    <tr>\n",
       "      <th>3</th>\n",
       "      <td>0.675698</td>\n",
       "      <td>0.572042</td>\n",
       "      <td>0.806943</td>\n",
       "      <td>0.781567</td>\n",
       "      <td>0.728958</td>\n",
       "      <td>0.543922</td>\n",
       "    </tr>\n",
       "    <tr>\n",
       "      <th>4</th>\n",
       "      <td>0.680400</td>\n",
       "      <td>0.395889</td>\n",
       "      <td>0.666473</td>\n",
       "      <td>0.747001</td>\n",
       "      <td>0.699472</td>\n",
       "      <td>0.481138</td>\n",
       "    </tr>\n",
       "    <tr>\n",
       "      <th>...</th>\n",
       "      <td>...</td>\n",
       "      <td>...</td>\n",
       "      <td>...</td>\n",
       "      <td>...</td>\n",
       "      <td>...</td>\n",
       "      <td>...</td>\n",
       "    </tr>\n",
       "    <tr>\n",
       "      <th>95</th>\n",
       "      <td>0.710825</td>\n",
       "      <td>0.728433</td>\n",
       "      <td>0.717379</td>\n",
       "      <td>0.664409</td>\n",
       "      <td>0.827952</td>\n",
       "      <td>0.554799</td>\n",
       "    </tr>\n",
       "    <tr>\n",
       "      <th>96</th>\n",
       "      <td>0.789557</td>\n",
       "      <td>0.595212</td>\n",
       "      <td>0.471202</td>\n",
       "      <td>0.861458</td>\n",
       "      <td>0.735759</td>\n",
       "      <td>0.540424</td>\n",
       "    </tr>\n",
       "    <tr>\n",
       "      <th>97</th>\n",
       "      <td>0.443302</td>\n",
       "      <td>0.432588</td>\n",
       "      <td>0.775275</td>\n",
       "      <td>0.769464</td>\n",
       "      <td>0.743519</td>\n",
       "      <td>0.586730</td>\n",
       "    </tr>\n",
       "    <tr>\n",
       "      <th>98</th>\n",
       "      <td>0.667193</td>\n",
       "      <td>0.661406</td>\n",
       "      <td>0.801448</td>\n",
       "      <td>0.646039</td>\n",
       "      <td>0.722179</td>\n",
       "      <td>0.487112</td>\n",
       "    </tr>\n",
       "    <tr>\n",
       "      <th>99</th>\n",
       "      <td>0.680477</td>\n",
       "      <td>0.563043</td>\n",
       "      <td>0.738633</td>\n",
       "      <td>0.835968</td>\n",
       "      <td>0.779604</td>\n",
       "      <td>0.490871</td>\n",
       "    </tr>\n",
       "  </tbody>\n",
       "</table>\n",
       "<p>100 rows × 6 columns</p>\n",
       "</div>"
      ],
      "text/plain": [
       "         10        20        40        60        80        100\n",
       "0   0.443663  0.540490  0.822930  0.707367  0.665361  0.486317\n",
       "1   0.615506  0.739069  0.793604  0.582179  0.715582  0.529447\n",
       "2   0.563797  0.533455  0.771284  0.766802  0.681582  0.450917\n",
       "3   0.675698  0.572042  0.806943  0.781567  0.728958  0.543922\n",
       "4   0.680400  0.395889  0.666473  0.747001  0.699472  0.481138\n",
       "..       ...       ...       ...       ...       ...       ...\n",
       "95  0.710825  0.728433  0.717379  0.664409  0.827952  0.554799\n",
       "96  0.789557  0.595212  0.471202  0.861458  0.735759  0.540424\n",
       "97  0.443302  0.432588  0.775275  0.769464  0.743519  0.586730\n",
       "98  0.667193  0.661406  0.801448  0.646039  0.722179  0.487112\n",
       "99  0.680477  0.563043  0.738633  0.835968  0.779604  0.490871\n",
       "\n",
       "[100 rows x 6 columns]"
      ]
     },
     "execution_count": 7,
     "metadata": {},
     "output_type": "execute_result"
    }
   ],
   "source": [
    "dataDict[8]"
   ]
  },
  {
   "cell_type": "code",
   "execution_count": 28,
   "id": "862ea29e",
   "metadata": {},
   "outputs": [
    {
     "data": {
      "text/html": [
       "<svg  width=\"550\" height=\"55\"><rect x=\"0\" y=\"0\" width=\"55\" height=\"55\" style=\"fill:#1f77b4;stroke-width:2;stroke:rgb(255,255,255)\"/><rect x=\"55\" y=\"0\" width=\"55\" height=\"55\" style=\"fill:#ff7f0e;stroke-width:2;stroke:rgb(255,255,255)\"/><rect x=\"110\" y=\"0\" width=\"55\" height=\"55\" style=\"fill:#2ca02c;stroke-width:2;stroke:rgb(255,255,255)\"/><rect x=\"165\" y=\"0\" width=\"55\" height=\"55\" style=\"fill:#d62728;stroke-width:2;stroke:rgb(255,255,255)\"/><rect x=\"220\" y=\"0\" width=\"55\" height=\"55\" style=\"fill:#9467bd;stroke-width:2;stroke:rgb(255,255,255)\"/><rect x=\"275\" y=\"0\" width=\"55\" height=\"55\" style=\"fill:#8c564b;stroke-width:2;stroke:rgb(255,255,255)\"/><rect x=\"330\" y=\"0\" width=\"55\" height=\"55\" style=\"fill:#e377c2;stroke-width:2;stroke:rgb(255,255,255)\"/><rect x=\"385\" y=\"0\" width=\"55\" height=\"55\" style=\"fill:#7f7f7f;stroke-width:2;stroke:rgb(255,255,255)\"/><rect x=\"440\" y=\"0\" width=\"55\" height=\"55\" style=\"fill:#bcbd22;stroke-width:2;stroke:rgb(255,255,255)\"/><rect x=\"495\" y=\"0\" width=\"55\" height=\"55\" style=\"fill:#17becf;stroke-width:2;stroke:rgb(255,255,255)\"/></svg>"
      ],
      "text/plain": [
       "[(0.12156862745098039, 0.4666666666666667, 0.7058823529411765),\n",
       " (1.0, 0.4980392156862745, 0.054901960784313725),\n",
       " (0.17254901960784313, 0.6274509803921569, 0.17254901960784313),\n",
       " (0.8392156862745098, 0.15294117647058825, 0.1568627450980392),\n",
       " (0.5803921568627451, 0.403921568627451, 0.7411764705882353),\n",
       " (0.5490196078431373, 0.33725490196078434, 0.29411764705882354),\n",
       " (0.8901960784313725, 0.4666666666666667, 0.7607843137254902),\n",
       " (0.4980392156862745, 0.4980392156862745, 0.4980392156862745),\n",
       " (0.7372549019607844, 0.7411764705882353, 0.13333333333333333),\n",
       " (0.09019607843137255, 0.7450980392156863, 0.8117647058823529)]"
      ]
     },
     "execution_count": 28,
     "metadata": {},
     "output_type": "execute_result"
    }
   ],
   "source": []
  },
  {
   "cell_type": "code",
   "execution_count": 51,
   "id": "370957bb",
   "metadata": {},
   "outputs": [
    {
     "data": {
      "text/plain": [
       "Text(0.06, 0.5, 'ARI Value (Higher is better)')"
      ]
     },
     "execution_count": 51,
     "metadata": {},
     "output_type": "execute_result"
    },
    {
     "data": {
      "image/png": "[encoded data removed]",
      "text/plain": [
       "<Figure size 1000x600 with 6 Axes>"
      ]
     },
     "metadata": {},
     "output_type": "display_data"
    }
   ],
   "source": [
    "fig, axs = plt.subplots((3), figsize=(10, 6))\n",
    "colors = sns.color_palette()\n",
    "fig.suptitle(\"ARI Testing\", fontsize=18)\n",
    "for idx, key in enumerate(dataDict.keys()):\n",
    "    ax = axs[idx]\n",
    "    ax2 = ax.twinx()\n",
    "    ax2.set_ylabel(f\"{key} clusters\", fontsize=12)\n",
    "    ax2.set_yticks([])\n",
    "    sns.boxplot(dataDict[key], ax=ax, color=colors[idx])\n",
    "fig.text(0.5, 0.03, 'Datapoints removed from cleaning', ha='center', fontsize=12)\n",
    "fig.text(0.06, 0.5, 'ARI Value (Higher is better)', va='center', rotation='vertical', fontsize=12)\n",
    "# fig.text(0.96, 0.5, 'Cluster Number', va='center', rotation='vertical')\n",
    "\n"
   ]
  },
  {
   "cell_type": "code",
   "execution_count": null,
   "id": "be2d7e90",
   "metadata": {},
   "outputs": [],
   "source": []
  }
 ],
 "metadata": {
  "kernelspec": {
   "display_name": "Python [conda env:stats]",
   "language": "python",
   "name": "conda-env-stats-py"
  },
  "language_info": {
   "codemirror_mode": {
    "name": "ipython",
    "version": 3
   },
   "file_extension": ".py",
   "mimetype": "text/x-python",
   "name": "python",
   "nbconvert_exporter": "python",
   "pygments_lexer": "ipython3",
   "version": "3.9.16"
  },
  "toc": {
   "base_numbering": 1,
   "nav_menu": {},
   "number_sections": true,
   "sideBar": true,
   "skip_h1_title": false,
   "title_cell": "Table of Contents",
   "title_sidebar": "Contents",
   "toc_cell": false,
   "toc_position": {},
   "toc_section_display": true,
   "toc_window_display": false
  },
  "varInspector": {
   "cols": {
    "lenName": 16,
    "lenType": 16,
    "lenVar": 40
   },
   "kernels_config": {
    "python": {
     "delete_cmd_postfix": "",
     "delete_cmd_prefix": "del ",
     "library": "var_list.py",
     "varRefreshCmd": "print(var_dic_list())"
    },
    "r": {
     "delete_cmd_postfix": ") ",
     "delete_cmd_prefix": "rm(",
     "library": "var_list.r",
     "varRefreshCmd": "cat(var_dic_list()) "
    }
   },
   "types_to_exclude": [
    "module",
    "function",
    "builtin_function_or_method",
    "instance",
    "_Feature"
   ],
   "window_display": false
  }
 },
 "nbformat": 4,
 "nbformat_minor": 5
}
